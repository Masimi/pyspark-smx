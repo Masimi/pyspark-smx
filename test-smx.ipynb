{
 "cells": [
  {
   "cell_type": "markdown",
   "metadata": {},
   "source": [
    "### Carregamento das Lib's utilizadas"
   ]
  },
  {
   "cell_type": "code",
   "execution_count": 1,
   "metadata": {},
   "outputs": [],
   "source": [
    "import os\n",
    "from pyspark import SparkContext, SparkConf, SQLContext"
   ]
  },
  {
   "cell_type": "markdown",
   "metadata": {},
   "source": [
    "Preparando contexto"
   ]
  },
  {
   "cell_type": "code",
   "execution_count": 2,
   "metadata": {},
   "outputs": [],
   "source": [
    "sc.stop()\n",
    "sc = SparkContext().getOrCreate()"
   ]
  },
  {
   "cell_type": "code",
   "execution_count": 3,
   "metadata": {
    "scrolled": true
   },
   "outputs": [],
   "source": [
    "sqlContext = SQLContext(sc)"
   ]
  },
  {
   "cell_type": "markdown",
   "metadata": {},
   "source": [
    "Carregando Arquivos"
   ]
  },
  {
   "cell_type": "code",
   "execution_count": 4,
   "metadata": {},
   "outputs": [],
   "source": [
    "textFile = sc.textFile(r\"C:\\projects\\python-first-steps-spark\\data\\access_log_Jul95,C:\\projects\\python-first-steps-spark\\data\\access_log_Aug95\")"
   ]
  },
  {
   "cell_type": "markdown",
   "metadata": {},
   "source": [
    "## 1. Número de hosts únicos."
   ]
  },
  {
   "cell_type": "code",
   "execution_count": 5,
   "metadata": {},
   "outputs": [],
   "source": [
    "#counts = textFile.flatMap(lambda line: line.split(\" \")).map(lambda word: (word, 1)).reduceByKey(lambda x, y: x + y).collect()"
   ]
  },
  {
   "cell_type": "code",
   "execution_count": 6,
   "metadata": {},
   "outputs": [],
   "source": [
    "# Separa os dados de host\n",
    "hosts = textFile.map(lambda line: line.split()[0])"
   ]
  },
  {
   "cell_type": "code",
   "execution_count": 7,
   "metadata": {},
   "outputs": [],
   "source": [
    "# Realiza um group by nos hosts\n",
    "uniqueHosts = hosts.map(lambda word: (word, 1)).reduceByKey(lambda x, y: x + y)"
   ]
  },
  {
   "cell_type": "code",
   "execution_count": 8,
   "metadata": {},
   "outputs": [
    {
     "data": {
      "text/plain": [
       "137979"
      ]
     },
     "execution_count": 8,
     "metadata": {},
     "output_type": "execute_result"
    }
   ],
   "source": [
    "# Realiza a contagem de hosts unicos\n",
    "uniqueHosts.count()"
   ]
  },
  {
   "cell_type": "markdown",
   "metadata": {},
   "source": [
    "resultado 137.979 hosts unicos."
   ]
  },
  {
   "cell_type": "markdown",
   "metadata": {},
   "source": [
    "## 2. O total de erros 404."
   ]
  },
  {
   "cell_type": "code",
   "execution_count": 9,
   "metadata": {},
   "outputs": [],
   "source": [
    "#Separa os dados de requisicoesque ocorreram 404\n",
    "erro_404 = textFile.filter(lambda x: \"404 -\" in x)"
   ]
  },
  {
   "cell_type": "code",
   "execution_count": 10,
   "metadata": {},
   "outputs": [
    {
     "data": {
      "text/plain": [
       "20900"
      ]
     },
     "execution_count": 10,
     "metadata": {},
     "output_type": "execute_result"
    }
   ],
   "source": [
    "#Realiza a contagem nas requisiçoes 404\n",
    "erro_404.count()"
   ]
  },
  {
   "cell_type": "markdown",
   "metadata": {},
   "source": [
    "Resultado 20.900 erros do tipo 404."
   ]
  },
  {
   "cell_type": "markdown",
   "metadata": {},
   "source": [
    "### 3. Os 5 URLs que mais causaram erro 404."
   ]
  },
  {
   "cell_type": "code",
   "execution_count": 11,
   "metadata": {},
   "outputs": [],
   "source": [
    "#Separa as url's das requisicoes que ocorreram 404\n",
    "url_404 = erro_404.map(lambda line: line.split()[0])"
   ]
  },
  {
   "cell_type": "code",
   "execution_count": 12,
   "metadata": {},
   "outputs": [],
   "source": [
    "#Agrupamento e contagem das url's\n",
    "count_url = url_404.map(lambda word: (word, 1)).reduceByKey(lambda x, y: x + y)"
   ]
  },
  {
   "cell_type": "code",
   "execution_count": 13,
   "metadata": {},
   "outputs": [
    {
     "data": {
      "text/plain": [
       "[('hoohoo.ncsa.uiuc.edu', 251),\n",
       " ('piweba3y.prodigy.com', 157),\n",
       " ('jbiagioni.npt.nuwc.navy.mil', 132),\n",
       " ('piweba1y.prodigy.com', 114),\n",
       " ('www-d4.proxy.aol.com', 91)]"
      ]
     },
     "execution_count": 13,
     "metadata": {},
     "output_type": "execute_result"
    }
   ],
   "source": [
    "#Orderna pela quantidade de forma decrescente e plota as 5 primeiras url's\n",
    "count_url.sortBy(lambda x: x[1],False).take(5)"
   ]
  },
  {
   "cell_type": "markdown",
   "metadata": {},
   "source": [
    "### 4. Quantidade de erros 404 por dia."
   ]
  },
  {
   "cell_type": "code",
   "execution_count": 14,
   "metadata": {},
   "outputs": [],
   "source": [
    "# Separa os dados de datas das requisicoes que ocorreram 404\n",
    "time = erro_404.map(lambda line: line.split(\" \")[3:5])"
   ]
  },
  {
   "cell_type": "code",
   "execution_count": 15,
   "metadata": {},
   "outputs": [],
   "source": [
    "# Cria-se um dataFrame\n",
    "t = sqlContext.createDataFrame(time,['date'])"
   ]
  },
  {
   "cell_type": "code",
   "execution_count": 16,
   "metadata": {
    "scrolled": false
   },
   "outputs": [],
   "source": [
    "# Extraindo somente a data (nao incluso hora, minuto etc)\n",
    "dates = t.select(t.date.substr(2, 12).alias(\"date\"))"
   ]
  },
  {
   "cell_type": "code",
   "execution_count": 17,
   "metadata": {},
   "outputs": [],
   "source": [
    "#Soma a qtde de ocorrencias(404) e orderna de forma decrescente\n",
    "erro_day = dates.groupBy(\"date\").count().orderBy('count', ascending=False)\n"
   ]
  },
  {
   "cell_type": "code",
   "execution_count": 18,
   "metadata": {
    "scrolled": true
   },
   "outputs": [
    {
     "data": {
      "text/plain": [
       "[Row(date='06/Jul/1995:', count=640),\n",
       " Row(date='19/Jul/1995:', count=639),\n",
       " Row(date='30/Aug/1995:', count=571),\n",
       " Row(date='07/Jul/1995:', count=570),\n",
       " Row(date='07/Aug/1995:', count=537),\n",
       " Row(date='13/Jul/1995:', count=531),\n",
       " Row(date='31/Aug/1995:', count=526),\n",
       " Row(date='05/Jul/1995:', count=497),\n",
       " Row(date='03/Jul/1995:', count=474),\n",
       " Row(date='11/Jul/1995:', count=471),\n",
       " Row(date='12/Jul/1995:', count=471),\n",
       " Row(date='18/Jul/1995:', count=465),\n",
       " Row(date='25/Jul/1995:', count=461),\n",
       " Row(date='20/Jul/1995:', count=428),\n",
       " Row(date='24/Aug/1995:', count=420),\n",
       " Row(date='29/Aug/1995:', count=420),\n",
       " Row(date='25/Aug/1995:', count=415),\n",
       " Row(date='14/Jul/1995:', count=413),\n",
       " Row(date='28/Aug/1995:', count=410),\n",
       " Row(date='17/Jul/1995:', count=406),\n",
       " Row(date='10/Jul/1995:', count=398),\n",
       " Row(date='08/Aug/1995:', count=391),\n",
       " Row(date='06/Aug/1995:', count=373),\n",
       " Row(date='27/Aug/1995:', count=370),\n",
       " Row(date='26/Aug/1995:', count=366),\n",
       " Row(date='04/Jul/1995:', count=359),\n",
       " Row(date='09/Jul/1995:', count=348),\n",
       " Row(date='04/Aug/1995:', count=346),\n",
       " Row(date='23/Aug/1995:', count=345),\n",
       " Row(date='26/Jul/1995:', count=336),\n",
       " Row(date='27/Jul/1995:', count=336),\n",
       " Row(date='21/Jul/1995:', count=334),\n",
       " Row(date='24/Jul/1995:', count=328),\n",
       " Row(date='15/Aug/1995:', count=327),\n",
       " Row(date='01/Jul/1995:', count=316),\n",
       " Row(date='10/Aug/1995:', count=315),\n",
       " Row(date='20/Aug/1995:', count=312),\n",
       " Row(date='21/Aug/1995:', count=305),\n",
       " Row(date='03/Aug/1995:', count=304),\n",
       " Row(date='08/Jul/1995:', count=302),\n",
       " Row(date='02/Jul/1995:', count=291),\n",
       " Row(date='22/Aug/1995:', count=288),\n",
       " Row(date='14/Aug/1995:', count=287),\n",
       " Row(date='09/Aug/1995:', count=279),\n",
       " Row(date='17/Aug/1995:', count=271),\n",
       " Row(date='11/Aug/1995:', count=263),\n",
       " Row(date='16/Aug/1995:', count=259),\n",
       " Row(date='16/Jul/1995:', count=257),\n",
       " Row(date='18/Aug/1995:', count=256),\n",
       " Row(date='15/Jul/1995:', count=254),\n",
       " Row(date='01/Aug/1995:', count=243),\n",
       " Row(date='05/Aug/1995:', count=236),\n",
       " Row(date='23/Jul/1995:', count=233),\n",
       " Row(date='13/Aug/1995:', count=216),\n",
       " Row(date='19/Aug/1995:', count=209),\n",
       " Row(date='12/Aug/1995:', count=196),\n",
       " Row(date='22/Jul/1995:', count=192),\n",
       " Row(date='28/Jul/1995:', count=94)]"
      ]
     },
     "execution_count": 18,
     "metadata": {},
     "output_type": "execute_result"
    }
   ],
   "source": [
    "#Plota os resultados\n",
    "erro_day.collect()"
   ]
  },
  {
   "cell_type": "markdown",
   "metadata": {},
   "source": [
    "### 5. O total de bytes retornados."
   ]
  },
  {
   "cell_type": "code",
   "execution_count": 19,
   "metadata": {},
   "outputs": [],
   "source": [
    "# Separa os dados de bytes recebidos\n",
    "df_bytes = textFile.map(lambda line: line.split(\" \")[9:10])"
   ]
  },
  {
   "cell_type": "code",
   "execution_count": 22,
   "metadata": {},
   "outputs": [],
   "source": [
    "# Remove os dados invalidos\n",
    "df_bytes_t = df_bytes.filter(lambda x: \"-\" not in x)"
   ]
  },
  {
   "cell_type": "code",
   "execution_count": null,
   "metadata": {},
   "outputs": [],
   "source": [
    "# soma os bytes recebidos\n",
    "df_bytes_t.reduce(lambda x, y: x + y).collect()"
   ]
  },
  {
   "cell_type": "markdown",
   "metadata": {},
   "source": [
    "Não consegui realizar a contagem de bytes recebidos, a contagem demorou bastante e crachou "
   ]
  }
 ],
 "metadata": {
  "kernelspec": {
   "display_name": "Python 3",
   "language": "python",
   "name": "python3"
  },
  "language_info": {
   "codemirror_mode": {
    "name": "ipython",
    "version": 3
   },
   "file_extension": ".py",
   "mimetype": "text/x-python",
   "name": "python",
   "nbconvert_exporter": "python",
   "pygments_lexer": "ipython3",
   "version": "3.6.4"
  }
 },
 "nbformat": 4,
 "nbformat_minor": 2
}
